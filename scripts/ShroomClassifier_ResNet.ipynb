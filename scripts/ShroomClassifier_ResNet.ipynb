{
  "cells": [
    {
      "cell_type": "code",
      "execution_count": 1,
      "metadata": {
        "colab": {
          "base_uri": "https://localhost:8080/"
        },
        "id": "5aRYQOfYoKTU",
        "outputId": "64366c87-83f9-481d-a683-7005efbd550f"
      },
      "outputs": [
        {
          "output_type": "stream",
          "name": "stdout",
          "text": [
            "Mounted at /content/drive\n"
          ]
        }
      ],
      "source": [
        "from google.colab import drive\n",
        "drive.mount('/content/drive')"
      ]
    },
    {
      "cell_type": "code",
      "source": [
        "!pip install lion-pytorch\n",
        "!pip install torcheval\n",
        "!pip install torchmetrics"
      ],
      "metadata": {
        "colab": {
          "base_uri": "https://localhost:8080/"
        },
        "id": "O9B4TA9wp35W",
        "outputId": "519fd665-f233-43ca-c246-82b971c3c736"
      },
      "execution_count": 2,
      "outputs": [
        {
          "output_type": "stream",
          "name": "stdout",
          "text": [
            "Requirement already satisfied: numpy>=1.17.2 in /usr/local/lib/python3.10/dist-packages (from torchmetrics) (1.22.4)\n",
            "Requirement already satisfied: torch>=1.8.1 in /usr/local/lib/python3.10/dist-packages (from torchmetrics) (2.0.1+cu118)\n",
            "Requirement already satisfied: packaging in /usr/local/lib/python3.10/dist-packages (from torchmetrics) (23.1)\n",
            "Requirement already satisfied: filelock in /usr/local/lib/python3.10/dist-packages (from torch>=1.8.1->torchmetrics) (3.12.0)\n",
            "Requirement already satisfied: typing-extensions in /usr/local/lib/python3.10/dist-packages (from torch>=1.8.1->torchmetrics) (4.5.0)\n",
            "Requirement already satisfied: sympy in /usr/local/lib/python3.10/dist-packages (from torch>=1.8.1->torchmetrics) (1.11.1)\n",
            "Requirement already satisfied: networkx in /usr/local/lib/python3.10/dist-packages (from torch>=1.8.1->torchmetrics) (3.1)\n",
            "Requirement already satisfied: jinja2 in /usr/local/lib/python3.10/dist-packages (from torch>=1.8.1->torchmetrics) (3.1.2)\n",
            "Requirement already satisfied: triton==2.0.0 in /usr/local/lib/python3.10/dist-packages (from torch>=1.8.1->torchmetrics) (2.0.0)\n",
            "Requirement already satisfied: cmake in /usr/local/lib/python3.10/dist-packages (from triton==2.0.0->torch>=1.8.1->torchmetrics) (3.25.2)\n",
            "Requirement already satisfied: lit in /usr/local/lib/python3.10/dist-packages (from triton==2.0.0->torch>=1.8.1->torchmetrics) (16.0.5)\n",
            "Requirement already satisfied: MarkupSafe>=2.0 in /usr/local/lib/python3.10/dist-packages (from jinja2->torch>=1.8.1->torchmetrics) (2.1.2)\n",
            "Requirement already satisfied: mpmath>=0.19 in /usr/local/lib/python3.10/dist-packages (from sympy->torch>=1.8.1->torchmetrics) (1.3.0)\n",
            "Installing collected packages: torchmetrics\n",
            "Successfully installed torchmetrics-0.11.4\n"
          ]
        }
      ]
    },
    {
      "cell_type": "code",
      "execution_count": 3,
      "metadata": {
        "id": "4BoGmybmXPb3"
      },
      "outputs": [],
      "source": [
        "import sys\n",
        "import torch\n",
        "from torchvision import transforms, datasets, models\n",
        "from torch.utils.data import Dataset, DataLoader, random_split, SubsetRandomSampler, WeightedRandomSampler, RandomSampler\n",
        "from pathlib import Path\n",
        "from torchvision.datasets import ImageFolder\n",
        "import os\n",
        "from PIL import Image, ImageFile\n",
        "ImageFile.LOAD_TRUNCATED_IMAGES = True\n",
        "import numpy as np\n",
        "import matplotlib.pyplot as plt\n",
        "import random\n",
        "import collections\n",
        "import pickle\n",
        "import torch.nn as nn\n",
        "from torchvision.models import ResNet18_Weights\n",
        "import tqdm\n",
        "from torch import optim\n",
        "from collections import Counter\n",
        "import math\n",
        "import shutil\n",
        "import torch.nn.functional as F\n",
        "from torcheval.metrics.functional import multiclass_f1_score\n",
        "from torchmetrics.classification import MulticlassRecall\n",
        "import statistics\n",
        "from tqdm import tqdm\n",
        "from torchvision.models import resnet34, resnet18\n",
        "from torchvision.models import ResNet34_Weights,ResNet18_Weights\n",
        "import torch.optim.lr_scheduler as lr_scheduler\n",
        "from lion_pytorch import Lion"
      ]
    },
    {
      "cell_type": "code",
      "execution_count": null,
      "metadata": {
        "id": "VYHXxg2va3GV"
      },
      "outputs": [],
      "source": [
        "! unzip /content/drive/MyDrive/MyShroomClassifier/datasets/Mushrooms_augmented_with_personal.zip"
      ]
    },
    {
      "cell_type": "code",
      "execution_count": 11,
      "metadata": {
        "id": "dop3_ArO7QdE"
      },
      "outputs": [],
      "source": [
        "def create_dataset(parent_directory_name):\n",
        "    classes = os.listdir(parent_directory_name)\n",
        "\n",
        "    # Preprocess the data:\n",
        "    # Create the transformation for the pictures for them to be the same size and\n",
        "    # Convert the picture to a tensor: a n dimensional array\n",
        "    transform = transforms.Compose([\n",
        "        transforms.ToTensor(),\n",
        "        transforms.Resize([224, 224])])\n",
        "    print(\"class count numbers\")\n",
        "    for clas in classes:\n",
        "        print(len(os.listdir(parent_directory_name + clas)))\n",
        "    # Define the ImageFolder dataset\n",
        "    # divide root folder in its subfolders and their image content\n",
        "    dataset = ImageFolder(root=parent_directory_name, transform=transform)\n",
        "\n",
        "    return dataset\n",
        "\n",
        "def idx2class(dataset):\n",
        "    # create a dictionary of the form idx:class_name\n",
        "    idx2class = {v: k for k, v in dataset.class_to_idx.items()}\n",
        "    return idx2class\n"
      ]
    },
    {
      "cell_type": "code",
      "execution_count": 12,
      "metadata": {
        "id": "itCxoPw6smF3"
      },
      "outputs": [],
      "source": [
        "def save_to_file(obj, file_name):\n",
        "    with open(file_name, 'wb') as f:\n",
        "        pickle.dump(obj, f, protocol=pickle.HIGHEST_PROTOCOL)\n",
        "\n",
        "\n",
        "def load_from_file(file_name):\n",
        "    # Load the classes with their img counts dictionary from the file\n",
        "    with open(file_name, 'rb') as f:\n",
        "        obj = pickle.load(f)\n",
        "    return obj\n",
        "\n",
        "\n",
        "def calculate_weights(dataset, class_distribution, dataset_name):\n",
        "    # Calculate the weights of each class\n",
        "    img_count_per_class = np.fromiter(class_distribution.values(), dtype=float)\n",
        "    classes = class_distribution.keys()\n",
        "    # the actual weights of classes\n",
        "    raw_weights = len(dataset) / (len(classes) * img_count_per_class)\n",
        "\n",
        "    # normalized weights : the bigger the number the lesser imgs are in that class\n",
        "    weights = raw_weights / np.sum(raw_weights)\n",
        "\n",
        "    weights_dict = {}\n",
        "    for A, B in zip(classes, weights):\n",
        "        weights_dict[A] = B\n",
        "    print(\"weights_dict\" + str(weights_dict))\n",
        "    try:\n",
        "        save_to_file(weights_dict,\n",
        "                     f\"drive/MyDrive/MyShroomClassifier/util_files/classes_with_their_weights_\" + dataset_name\n",
        "                     + \".pickle\")\n",
        "        return weights_dict\n",
        "    except Exception as e:  # work on python 3.x\n",
        "        print('Failed to upload to ftp: ' + str(e))\n",
        "\n",
        "\n",
        "\n",
        "#get the number of pictures for each class\n",
        "#return a dictionary of form class:nr_of_elements\n",
        "def get_class_distribution(dataset, dataset_name):\n",
        "    # Determine count of images per class in training_dataset\n",
        "    # Collect the labels in a list or dictionary\n",
        "\n",
        "    class_counts = dict(Counter(dataset.targets))\n",
        "    print(\"class_counts\" + str(class_counts))\n",
        "    myKeys = list(class_counts.keys())\n",
        "    myKeys.sort()\n",
        "    sorted_class_counts = {i: class_counts[i] for i in myKeys}\n",
        "\n",
        "    save_to_file(sorted_class_counts, \"drive/MyDrive/MyShroomClassifier/util_files/classes_with_their_img_count_\" + dataset_name + \".pickle\")\n",
        "\n",
        "\n",
        "\n",
        "def save_to_folders(train_dataset, val_dataset, test_dataset, classes, dir_name):\n",
        "    if (not os.path.isdir(dir_name + \"/test/Suillus\")):\n",
        "      output_folders = ['train', 'val', 'test']\n",
        "      output_dirs = {\n",
        "          output_folders[0]: dir_name + '/train',\n",
        "          output_folders[1]:  dir_name + '/val',\n",
        "          output_folders[2]: dir_name + '/test'\n",
        "      }\n",
        "\n",
        "      # Create the output directories if they don't exist\n",
        "      for output_dir in output_dirs.values():\n",
        "          Path(output_dir).mkdir(parents=True, exist_ok=True)\n",
        "          for class_name in classes:\n",
        "              Path(output_dir + \"/\" + class_name).mkdir(parents=True, exist_ok=True)\n",
        "      subsets = [train_dataset, val_dataset, test_dataset]\n",
        "      for i in range(len(subsets)):\n",
        "          subset = subsets[i]\n",
        "          for j in range(len(subset)):\n",
        "              img_tensor = subset[j][0]\n",
        "              label = subset[j][1]\n",
        "              to_img_transform = transforms.ToPILImage()\n",
        "              img = to_img_transform(img_tensor)\n",
        "              img_name = \"/\" + str(j) + \".jpg\"\n",
        "\n",
        "              img.save(dir_name + \"/\" + output_folders[i] + \"/\" + classes[label] + img_name)\n",
        "\n"
      ]
    },
    {
      "cell_type": "code",
      "execution_count": 13,
      "metadata": {
        "id": "0YkD-w1lHPVu"
      },
      "outputs": [],
      "source": [
        "# Define your subset as a PyTorch Dataset object\n",
        "class MySubset(Dataset):\n",
        "    def __init__(self, data):\n",
        "        self.data = data\n",
        "\n",
        "    def __getitem__(self, index):\n",
        "        # Return a single (tensor, label) tuple\n",
        "        return self.data[index]\n",
        "\n",
        "    def __len__(self):\n",
        "        return len(self.data)"
      ]
    },
    {
      "cell_type": "code",
      "execution_count": 14,
      "metadata": {
        "id": "2W8MP_J6hMq0"
      },
      "outputs": [],
      "source": [
        "import statistics\n",
        "def split_train_val_test(dataset):\n",
        "\n",
        "    classes = os.listdir(\"Mushrooms_augmented_Mircea\")\n",
        "\n",
        "    idx2_class = idx2class(dataset)\n",
        "\n",
        "    # Split dataset into train, validation, and test sets\n",
        "    train_size = int(len(dataset) * 0.75)  # 75% train\n",
        "    val_size = int(len(dataset) * 0.15)  # 15% val\n",
        "    test_size = len(dataset) - train_size - val_size  # 10% test\n",
        "    print(\"train:\", train_size, \"\\nval:\", val_size, \"\\ntest:\", test_size)\n",
        "\n",
        "    # Use the random_split function to split the dataset\n",
        "    train_dataset, val_dataset, test_dataset = random_split(\n",
        "        dataset, [train_size, val_size, test_size], generator=torch.Generator().manual_seed(42))\n",
        "\n",
        "    # Save the distribution of the newly split dataset\n",
        "    get_class_distribution(train_dataset, \"train_personal\")\n",
        "    return train_dataset, val_dataset, test_dataset\n",
        "\n"
      ]
    },
    {
      "cell_type": "markdown",
      "metadata": {
        "id": "tjha2WnmXH9c"
      },
      "source": [
        "\n",
        "## **Augment1 experiment**:\n",
        "\n",
        "\n",
        "- Augment every minority class(that has a difference of 100 or more to the avg_class_count) image so that class_count := class_count + class_count * avg_class_count/ class_count\n",
        "- Decrement the number of images from the classes that have a (avg_class_count + 100)+ class count so that class_count := avg_class_count + 100\n",
        "\n"
      ]
    },
    {
      "cell_type": "code",
      "execution_count": null,
      "metadata": {
        "id": "LHQy2srcXFSd"
      },
      "outputs": [],
      "source": [
        "\n",
        "\n",
        "def split_train_val_test_augment1(dataset, input_dir, output_dir):\n",
        "\n",
        "  # Use the random_split function to split the dataset\n",
        "  if not os.path.isdir(output_dir + \"/train/Agaricus\"):\n",
        "    train_dataset, val_dataset, test_dataset = split_train_val_test(dataset)\n",
        "    classes = os.listdir(input_dir)\n",
        "\n",
        "    transform_list = [\n",
        "        transforms.RandomHorizontalFlip(),\n",
        "        transforms.Grayscale(),\n",
        "        transforms.RandomPerspective(distortion_scale=0.4, p=1.0),\n",
        "        transforms.RandomVerticalFlip(),\n",
        "        transforms.RandomRotation(degrees=30),\n",
        "\n",
        "    ]\n",
        "\n",
        "    # Create a list of augmented images and labels\n",
        "    augmented_images = []\n",
        "    augmented_labels = []\n",
        "    if(not os.path.isfile(r\"drive/MyDrive/MyShroomClassifier/util_files/classes_with_their_img_count_train_personal.pickle\")):\n",
        "        get_class_distribution(train_dataset, \"train\")\n",
        "    class_counts = load_from_file(\"drive/MyDrive/MyShroomClassifier/util_files/classes_with_their_img_count_train__personal.pickle\")\n",
        "    print(class_counts)\n",
        "    print(classes)\n",
        "    avg_class_count = statistics.mean(class_counts.values())\n",
        "    current_data = [train_dataset.__getitem__(i) for i in range(len(train_dataset))]\n",
        "\n",
        "    # Augment images with random transform based on the \"class weight\" --> count\n",
        "    for label_idx in range(len(classes)):\n",
        "\n",
        "        class_count = class_counts[label_idx]\n",
        "        if avg_class_count - class_count > 100:\n",
        "            # Augment only classes that are below average of all class counts\n",
        "            # Determine the number of transformations to apply\n",
        "            # optimal value must be found\n",
        "            num_augmentations = class_count * avg_class_count / class_count - class_count\n",
        "\n",
        "            # Get the indices of the images in this class\n",
        "            indices = []\n",
        "            for i in range(len(current_data)):\n",
        "                if current_data[i][1] == label_idx:\n",
        "                    indices.append(i)\n",
        "            # print(num_augmentations)\n",
        "            for augment in range(math.ceil(num_augmentations)):\n",
        "                # Select a random image from this class\n",
        "                img_idx = random.randrange(0, len(indices))\n",
        "                t = transforms.ToPILImage()\n",
        "                img = current_data[indices[img_idx]][0]\n",
        "                img = t(current_data[indices[img_idx]][0])\n",
        "\n",
        "                # Apply a random transformation\n",
        "                transform_idx = random.randrange(0, len(transform_list))\n",
        "                transform = transform_list[transform_idx]\n",
        "\n",
        "                img = transform(img)\n",
        "                to_tensor = transforms.ToTensor()\n",
        "                img = to_tensor(img)\n",
        "                # Add the transformed image and label to the list\n",
        "                augmented_images.append(img)\n",
        "                augmented_labels.append(label_idx)\n",
        "\n",
        "\n",
        "        else:\n",
        "            if class_count - avg_class_count > 100:\n",
        "                # Get the indices of the images in this class\n",
        "                indices = []\n",
        "                for i in range(len(current_data)):\n",
        "                    if current_data[i][1] == label_idx:\n",
        "                        indices.append(i)\n",
        "\n",
        "                while class_count >= avg_class_count:\n",
        "                    img_idx = random.randrange(0, len(indices))\n",
        "\n",
        "                    current_data.pop(indices[img_idx])\n",
        "                    class_count -= 1\n",
        "                    # Make sure that the other indices change after deleting\n",
        "                    # Starting from the index from indices where the index(current_data) was saved + 1\n",
        "                    for indices_idx in range(img_idx + 1, len(indices)):\n",
        "                        indices[indices_idx] -= 1\n",
        "                    indices.pop(img_idx)\n",
        "    # # get the current tensor and label data from the train_subset\n",
        "\n",
        "    new_data = [(augmented_images[i], augmented_labels[i]) for i in range(len(augmented_images))]\n",
        "    updated_data = current_data + new_data\n",
        "    train_dataset = MySubset(updated_data)\n",
        "    save_to_folders(train_dataset, val_dataset, test_dataset, classes, output_dir)\n",
        "\n",
        "\n",
        "  else:\n",
        "    print(\"Data folder already exists...You're ready to GO\")\n"
      ]
    },
    {
      "cell_type": "markdown",
      "metadata": {
        "id": "apvISSHZXiwj"
      },
      "source": [
        "## **Augment2 experiment**:\n",
        "- Augment every minority class(that has a difference of 50 or more to the avg_class_count) image so that class_count := class_count + class_count * avg_class_count/ class_count\n",
        "- Decrement the number of images from the classes that have a (avg_class_count + 100)+ class count so that class_count := avg_class_count + 100"
      ]
    },
    {
      "cell_type": "code",
      "execution_count": 15,
      "metadata": {
        "id": "_e9YSgmhXhay"
      },
      "outputs": [],
      "source": [
        "def split_train_val_test_augment2(dataset, output_dir):\n",
        "\n",
        "    # Use the random_split function to split the dataset\n",
        "  if not os.path.isdir(\"drive/MyDrive/MyShroomClassifier/\" + output_dir + \"/train/Agaricus\"):\n",
        "    train_dataset, val_dataset, test_dataset = split_train_val_test(dataset)\n",
        "    classes = os.listdir(\"Mushrooms_augmented_Mircea\")\n",
        "\n",
        "    transform_list = [\n",
        "        transforms.RandomHorizontalFlip(),\n",
        "        transforms.Grayscale(),\n",
        "        transforms.RandomPerspective(distortion_scale=0.4, p=1.0),\n",
        "        transforms.RandomVerticalFlip(),\n",
        "        transforms.RandomRotation(degrees=30),\n",
        "\n",
        "    ]\n",
        "\n",
        "    # Create a list of augmented images and labels\n",
        "    augmented_images = []\n",
        "    augmented_labels = []\n",
        "    if(not os.path.isfile(r\"drive/MyDrive/MyShroomClassifier/util_files/classes_with_their_img_count_personal_train.pickle\")):\n",
        "        get_class_distribution(train_dataset, \"train\")\n",
        "    class_counts = load_from_file(\"drive/MyDrive/MyShroomClassifier/util_files/classes_with_their_img_count_personal_train.pickle\")\n",
        "    print(class_counts)\n",
        "    print(classes)\n",
        "    avg_class_count = statistics.mean(class_counts.values())\n",
        "    current_data = [train_dataset.__getitem__(i) for i in range(len(train_dataset))]\n",
        "\n",
        "    # Augment images with random transform based on the \"class weight\" --> count\n",
        "    for label_idx in range(len(classes)):\n",
        "\n",
        "        class_count = class_counts[label_idx]\n",
        "\n",
        "          # Augment only classes that are below average of all class counts\n",
        "        if avg_class_count - class_count > 50:\n",
        "\n",
        "          # Determine the number of transformations to apply\n",
        "          # optimal value must be found\n",
        "          num_augmentations = class_count * avg_class_count / class_count\n",
        "          # Get the indices of the images in this class\n",
        "          indices = []\n",
        "          for i in range(len(current_data)):\n",
        "              if current_data[i][1] == label_idx:\n",
        "                  indices.append(i)\n",
        "          # print(num_augmentations)\n",
        "          for augment in range(math.ceil(num_augmentations)):\n",
        "              # Select a random image from this class\n",
        "              img_idx = random.randrange(0, len(indices))\n",
        "              t = transforms.ToPILImage()\n",
        "              img = current_data[indices[img_idx]][0]\n",
        "              img = t(current_data[indices[img_idx]][0])\n",
        "\n",
        "              # Apply a random transformation\n",
        "              transform_idx = random.randrange(0, len(transform_list))\n",
        "              transform = transform_list[transform_idx]\n",
        "\n",
        "              img = transform(img)\n",
        "              to_tensor = transforms.ToTensor()\n",
        "              img = to_tensor(img)\n",
        "              # Add the transformed image and label to the list\n",
        "              augmented_images.append(img)\n",
        "              augmented_labels.append(label_idx)\n",
        "\n",
        "\n",
        "        else:\n",
        "            if class_count - avg_class_count > 100:\n",
        "                # Get the indices of the images in this class\n",
        "                indices = []\n",
        "                for i in range(len(current_data)):\n",
        "                    if current_data[i][1] == label_idx:\n",
        "                        indices.append(i)\n",
        "\n",
        "                while class_count >= avg_class_count + 100:\n",
        "                    img_idx = random.randrange(0, len(indices))\n",
        "\n",
        "                    current_data.pop(indices[img_idx])\n",
        "                    class_count -= 1\n",
        "                    # Make sure that the other indices change after deleting\n",
        "                    # Starting from the index from indices where the index(current_data) was saved + 1\n",
        "                    for indices_idx in range(img_idx + 1, len(indices)):\n",
        "                        indices[indices_idx] -= 1\n",
        "                    indices.pop(img_idx)\n",
        "    # # get the current tensor and label data from the train_subset\n",
        "\n",
        "    new_data = [(augmented_images[i], augmented_labels[i]) for i in range(len(augmented_images))]\n",
        "    updated_data = current_data + new_data\n",
        "    train_dataset = MySubset(updated_data)\n",
        "    save_to_folders(train_dataset, val_dataset, test_dataset, classes, output_dir)\n",
        "\n",
        "\n",
        "  else:\n",
        "      print(\"Data folder already exists...You're ready to GO\")\n",
        "\n"
      ]
    },
    {
      "cell_type": "markdown",
      "metadata": {
        "id": "RItLDbFZX2MI"
      },
      "source": [
        "## **Augment3 experiment**:\n",
        "- Augment every minority class(that has a difference of 50 or more to the avg_class_count) image so that class_count := class_count + class_count * avg_class_count/ class_count\n",
        "- No decrementation of majority classes\n"
      ]
    },
    {
      "cell_type": "code",
      "execution_count": 16,
      "metadata": {
        "id": "5_m62tmrX0Xs"
      },
      "outputs": [],
      "source": [
        "\n",
        "def split_train_val_test_augment3(dataset, output_dir, class_distribution_file_name):\n",
        "\n",
        "    # Use the random_split function to split the dataset\n",
        "  if not os.path.isdir(output_dir + \"/train/Agaricus\"):\n",
        "    train_dataset, val_dataset, test_dataset = split_train_val_test(dataset)\n",
        "    classes = os.listdir(\"Mushrooms_augmented_Mircea\")\n",
        "\n",
        "    transform_list = [\n",
        "        transforms.RandomHorizontalFlip(),\n",
        "        transforms.Grayscale(),\n",
        "        transforms.RandomPerspective(distortion_scale=0.4, p=1.0),\n",
        "        transforms.RandomVerticalFlip(),\n",
        "        transforms.RandomRotation(degrees=30),\n",
        "\n",
        "    ]\n",
        "\n",
        "    # Create a list of augmented images and labels\n",
        "    augmented_images = []\n",
        "    augmented_labels = []\n",
        "    if(not os.path.isfile(r\"drive/MyDrive/MyShroomClassifier/util_files/classes_with_their_img_count_personal_train.pickle\")):\n",
        "        get_class_distribution(train_dataset, \"train\")\n",
        "    class_counts = load_from_file(\"drive/MyDrive/MyShroomClassifier/util_files/classes_with_their_img_count_personal_train.pickle\")\n",
        "    print(class_counts)\n",
        "    print(classes)\n",
        "    avg_class_count = statistics.mean(class_counts.values())\n",
        "    current_data = [train_dataset.__getitem__(i) for i in range(len(train_dataset))]\n",
        "\n",
        "    # Augment images with random transform based on the \"class weight\" --> count\n",
        "    for label_idx in range(len(classes)):\n",
        "\n",
        "        class_count = class_counts[label_idx]\n",
        "\n",
        "          # Augment only classes that are below average of all class counts\n",
        "        if avg_class_count - class_count > 50:\n",
        "\n",
        "          # Determine the number of transformations to apply\n",
        "          # optimal value must be found\n",
        "          num_augmentations = class_count * avg_class_count / class_count\n",
        "          # Get the indices of the images in this class\n",
        "          indices = []\n",
        "          for i in range(len(current_data)):\n",
        "              if current_data[i][1] == label_idx:\n",
        "                  indices.append(i)\n",
        "          # print(num_augmentations)\n",
        "          for augment in range(math.ceil(num_augmentations)):\n",
        "              # Select a random image from this class\n",
        "              img_idx = random.randrange(0, len(indices))\n",
        "              t = transforms.ToPILImage()\n",
        "              img = current_data[indices[img_idx]][0]\n",
        "              img = t(current_data[indices[img_idx]][0])\n",
        "\n",
        "              # Apply a random transformation\n",
        "              transform_idx = random.randrange(0, len(transform_list))\n",
        "              transform = transform_list[transform_idx]\n",
        "\n",
        "              img = transform(img)\n",
        "              to_tensor = transforms.ToTensor()\n",
        "              img = to_tensor(img)\n",
        "              # Add the transformed image and label to the list\n",
        "              augmented_images.append(img)\n",
        "              augmented_labels.append(label_idx)\n",
        "\n",
        "\n",
        "    # # get the current tensor and label data from the train_subset\n",
        "\n",
        "    new_data = [(augmented_images[i], augmented_labels[i]) for i in range(len(augmented_images))]\n",
        "    updated_data = current_data + new_data\n",
        "    train_dataset = MySubset(updated_data)\n",
        "    save_to_folders(train_dataset, val_dataset, test_dataset, classes, output_dir)\n",
        "    get_class_distribution(train_dataset, \"train_\" + class_distribution_file_name)\n",
        "  else:\n",
        "      print(\"Data folder already exists...You're ready to GO\")\n"
      ]
    },
    {
      "cell_type": "markdown",
      "metadata": {
        "id": "h7qJkX6wL3-7"
      },
      "source": [
        "## **Augment4 experiment**:\n",
        "- Augment all the minority classes so that their image count matches the one of the majority class"
      ]
    },
    {
      "cell_type": "code",
      "execution_count": 17,
      "metadata": {
        "id": "coMFLL4oLxEp"
      },
      "outputs": [],
      "source": [
        "\n",
        "\n",
        "# Generate a dataset that has all classes with the same number of images that is -100 of the class[max(nr_of_images)]\n",
        "def split_train_val_test_augment4(dataset, output_dir, class_distribution_file_name):\n",
        "    # Use the random_split function to split the dataset\n",
        "    if not os.path.isdir(output_dir + \"/train/Agaricus\"):\n",
        "\n",
        "        train_dataset, val_dataset, test_dataset = split_train_val_test(dataset)\n",
        "        classes = os.listdir(\"Mushrooms_augmented_Mircea\")\n",
        "\n",
        "        transform_list = [\n",
        "            transforms.RandomHorizontalFlip(),\n",
        "            transforms.Grayscale(),\n",
        "            transforms.RandomPerspective(distortion_scale=0.4, p=1.0),\n",
        "            transforms.RandomVerticalFlip(),\n",
        "            transforms.RandomRotation(degrees=30),\n",
        "\n",
        "        ]\n",
        "\n",
        "        if (not os.path.isfile(\"drive/MyDrive/MyShroomClassifier/util_files/classes_with_their_img_count_personal_train.pickle\")):\n",
        "            get_class_distribution(train_dataset, \"train_personal\")\n",
        "        class_counts = load_from_file(\"drive/MyDrive/MyShroomClassifier/util_files/classes_with_their_img_count_personal_train.pickle\")\n",
        "        print(class_counts)\n",
        "        print(\"generated class counts for the training dataset raw\")\n",
        "        max_class_count = max(class_counts.values())\n",
        "\n",
        "        # Split the dataset into 2 batches\n",
        "        classes_indexes = [i for i in range(len(classes))]\n",
        "        classes_first_half = [i for i in range(len(classes_indexes) // 2)]\n",
        "        classes_second_half = [i for i in range(len(classes_indexes) // 2, len(classes_indexes))]\n",
        "\n",
        "        current_data1 = [train_dataset.__getitem__(i) for i in range(len(train_dataset)) if\n",
        "                         train_dataset.__getitem__(i)[1] in classes_first_half]\n",
        "\n",
        "\n",
        "        current_data2 = [train_dataset.__getitem__(i) for i in range(len(train_dataset)) if\n",
        "                         train_dataset.__getitem__(i)[1] in classes_second_half]\n",
        "\n",
        "        # Augment images with random transform based on the \"class weight\" --> count\n",
        "        new_data1 = generate_data(current_data1, class_counts, classes_first_half, transform_list, max_class_count)\n",
        "        new_data2 = generate_data(current_data2, class_counts, classes_second_half, transform_list, max_class_count)\n",
        "        updated_data = current_data1 + current_data2 + new_data1 + new_data2\n",
        "        train_dataset = MySubset(updated_data)\n",
        "        save_to_folders(train_dataset, val_dataset, test_dataset, classes, output_dir)\n",
        "        get_class_distribution(train_dataset, \"train_\" + class_distribution_file_name)\n",
        "    else:\n",
        "        print(\"Data folder already exists...You're ready to GO\")\n",
        "\n",
        "\n",
        "def generate_data(data, class_counts, classes, transform_list, max_class_count):\n",
        "    # Create a list of augmented images and labels\n",
        "    augmented_data = []\n",
        "    for label_idx in classes:\n",
        "\n",
        "        class_count = class_counts[label_idx]\n",
        "\n",
        "        # Augment only classes that are below average of all class counts\n",
        "        if class_count < max_class_count:\n",
        "\n",
        "            # Determine the number of transformations to apply\n",
        "            # optimal value must be found\n",
        "            num_augmentations = max_class_count - class_count\n",
        "            # Get the indices of the images in this class\n",
        "            indices = []\n",
        "            for i in range(len(data)):\n",
        "                if data[i][1] == label_idx:\n",
        "                    indices.append(i)\n",
        "            print(len(indices))\n",
        "            # print(num_augmentations)\n",
        "            for augment in range(num_augmentations):\n",
        "                # Select a random image from this class\n",
        "                img_idx = random.randrange(0, len(indices))\n",
        "                t = transforms.ToPILImage()\n",
        "                img = t(data[indices[img_idx]][0])\n",
        "\n",
        "                # Apply a random transformation\n",
        "                transform_idx = random.randrange(0, len(transform_list))\n",
        "                transform = transform_list[transform_idx]\n",
        "\n",
        "                img = transform(img)\n",
        "                to_tensor = transforms.ToTensor()\n",
        "                img = to_tensor(img)\n",
        "                # Add the transformed image and label to the list\n",
        "                augmented_data.append((img, label_idx))\n",
        "\n",
        "    return augmented_data\n"
      ]
    },
    {
      "cell_type": "code",
      "source": [
        "class EarlyStopping:\n",
        "    \"\"\"Early stops the training if validation loss doesn't improve after a given patience.\"\"\"\n",
        "    def __init__(self, patience=7, verbose=False, delta=0, path='checkpoint.pt', trace_func=print):\n",
        "        \"\"\"\n",
        "        Args:\n",
        "            patience (int): How long to wait after last time validation loss improved.\n",
        "                            Default: 7\n",
        "            verbose (bool): If True, prints a message for each validation loss improvement.\n",
        "                            Default: False\n",
        "            delta (float): Minimum change in the monitored quantity to qualify as an improvement.\n",
        "                            Default: 0\n",
        "            path (str): Path for the checkpoint to be saved to.\n",
        "                            Default: 'checkpoint.pt'\n",
        "            trace_func (function): trace print function.\n",
        "                            Default: print\n",
        "        \"\"\"\n",
        "        self.patience = patience\n",
        "        self.verbose = verbose\n",
        "        self.counter = 0\n",
        "        self.best_score = None\n",
        "        self.early_stop = False\n",
        "        self.val_loss_min = np.Inf\n",
        "        self.delta = delta\n",
        "        self.path = path\n",
        "        self.trace_func = trace_func\n",
        "    def __call__(self, val_loss, model):\n",
        "\n",
        "        score = -val_loss\n",
        "\n",
        "        if self.best_score is None:\n",
        "            self.best_score = score\n",
        "            self.save_checkpoint(val_loss, model)\n",
        "        elif score < self.best_score + self.delta:\n",
        "            self.counter += 1\n",
        "            self.trace_func(f'EarlyStopping counter: {self.counter} out of {self.patience}')\n",
        "            if self.counter >= self.patience:\n",
        "                self.early_stop = True\n",
        "        else:\n",
        "            self.best_score = score\n",
        "            self.save_checkpoint(val_loss, model)\n",
        "            self.counter = 0\n",
        "\n",
        "    def save_checkpoint(self, val_loss, model):\n",
        "        '''Saves model when validation loss decrease.'''\n",
        "        if self.verbose:\n",
        "            self.trace_func(f'Validation loss decreased ({self.val_loss_min:.6f} --> {val_loss:.6f}).  Saving model ...')\n",
        "        torch.save(model.state_dict(), self.path)\n",
        "        self.val_loss_min = val_loss"
      ],
      "metadata": {
        "id": "gJYYbhnrxnkW"
      },
      "execution_count": 18,
      "outputs": []
    },
    {
      "cell_type": "code",
      "source": [
        "import torch.nn.init as init\n",
        "def init_weights(m):\n",
        "   if isinstance(m, nn.Conv2d):\n",
        "      init.normal_(m.weight, mean=0, std=0.01)\n",
        "      if m.bias is not None:\n",
        "          init.constant_(m.bias, 0)\n",
        "   elif isinstance(m, nn.BatchNorm2d):\n",
        "     init.constant_(m.weight, 1)\n",
        "     init.constant_(m.bias, 0)\n",
        "   elif isinstance(m, nn.Linear):\n",
        "     init.normal_(m.weight, mean=0, std=0.01)\n",
        "     if m.bias is not None:\n",
        "      init.constant_(m.bias, 0)"
      ],
      "metadata": {
        "id": "b54xwll_xx3B"
      },
      "execution_count": 19,
      "outputs": []
    },
    {
      "cell_type": "code",
      "source": [
        "def prepare_model(device, train_dataset_weights=[]):\n",
        "    model = models.resnet34(weights=ResNet34_Weights.DEFAULT)\n",
        "    # model.apply(init_weights)\n",
        "    #maybe overfitting comes from not freezing the layers\n",
        "    for param in model.parameters():\n",
        "        param.requires_grad = True\n",
        "\n",
        "    num_ftrs = model.fc.in_features\n",
        "    print(model.fc)\n",
        "    model.fc = nn.Sequential( nn.Linear(out_features=9,in_features=num_ftrs), # 9 is the number of classes in your mushroom image dataset\n",
        "                             nn.ReLU(), nn.Dropout(p=0.5),\n",
        "\n",
        "    )\n",
        "    print(model.fc)\n",
        "\n",
        "    model.to(device)\n",
        "    criterion = nn.CrossEntropyLoss(weight=torch.tensor(list(train_dataset_weights.values()), dtype=torch.float32))\n",
        "    criterion.to(device)\n",
        "    # optimizer = optim.Adagrad(model.fc.parameters(), lr=0.001, weight_decay=0.01)\n",
        "    # optimizer = optim.Adam(model.fc.parameters(), lr=0.001, weight_decay = 0.001)\n",
        "    optimizer = optim.SGD(model.parameters(), lr=0.001, momentum=0.9, weight_decay=0.01)\n",
        "    # optimizer = Lion(model.parameters(), lr=0.00001, weight_decay=1e-2)\n",
        "    # scheduler = lr_scheduler.StepLR(optimizer, step_size=20, gamma=0.1)\n",
        "    scheduler = lr_scheduler.ReduceLROnPlateau(optimizer, 'min', patience=2)\n",
        "\n",
        "    return model, criterion, scheduler, optimizer\n",
        "\n"
      ],
      "metadata": {
        "id": "MY7w9R1ExqlF"
      },
      "execution_count": 44,
      "outputs": []
    },
    {
      "cell_type": "code",
      "execution_count": 36,
      "metadata": {
        "id": "nyJWcMG-8MIR"
      },
      "outputs": [],
      "source": [
        "def train_model(model, train_loader, val_loader, criterion,scheduler,optimizer, num_epochs, device):\n",
        "    train_losses = []\n",
        "    val_losses = []\n",
        "    train_accs = []\n",
        "    val_accs = []\n",
        "    print(\"is on cuda:\", next(model.parameters()).is_cuda)\n",
        "\n",
        "    early_stopping = EarlyStopping(patience=5, verbose=True)\n",
        "    for epoch in range(num_epochs):\n",
        "        train_loss = 0.0\n",
        "        val_loss = 0.0\n",
        "        train_total = 0\n",
        "        val_total = 0\n",
        "        train_correct = 0\n",
        "        val_correct = 0\n",
        "\n",
        "        model.train()\n",
        "\n",
        "        loop = tqdm(enumerate(train_loader), total=len(train_loader))\n",
        "\n",
        "        for i, (inputs, labels) in loop:\n",
        "\n",
        "          inputs, labels = inputs.to(device), labels.to(device)\n",
        "\n",
        "          optimizer.zero_grad()\n",
        "\n",
        "          outputs = model(inputs)\n",
        "          loss = criterion(outputs, labels)\n",
        "          loss.backward()\n",
        "          optimizer.step()\n",
        "\n",
        "          train_loss += loss.item() * inputs.size(0)\n",
        "          train_total += inputs.size(0)\n",
        "          _, predicted = torch.max(outputs.data, 1)\n",
        "          train_correct += (predicted == labels).sum().item()\n",
        "\n",
        "        train_losses.append(train_loss / train_total)\n",
        "        train_accs.append(train_correct / train_total)\n",
        "\n",
        "        model.eval()\n",
        "        with torch.no_grad():\n",
        "            for i, (inputs, labels) in enumerate(val_loader):\n",
        "                inputs, labels = inputs.to(device), labels.to(device)\n",
        "\n",
        "                outputs = model(inputs)\n",
        "                loss = criterion(outputs, labels)\n",
        "\n",
        "                val_loss += loss.item() * inputs.size(0)\n",
        "                val_total += inputs.size(0)\n",
        "                _, predicted = torch.max(outputs.data, 1)\n",
        "                val_correct += (predicted == labels).sum().item()\n",
        "\n",
        "            val_losses.append(val_loss / val_total)\n",
        "            val_accs.append(val_correct / val_total)\n",
        "\n",
        "        loop.write(\n",
        "            f'Epoch {epoch + 1} - Train Loss: {train_losses[-1]:.4f} - Train Acc: {train_accs[-1]:.4f} - Val Loss: '\n",
        "            f'{val_losses[-1]:.4f} - Val Acc: {val_accs[-1]:.4f} - learning rate: {optimizer.param_groups[0][\"lr\"]}')\n",
        "        # Update the learning rate\n",
        "        scheduler.step(val_loss)\n",
        "        early_stopping(val_loss, model)\n",
        "\n",
        "        if early_stopping.early_stop:\n",
        "            print(\"Early stopping\")\n",
        "            break\n",
        "\n",
        "        # if (abs(val_loss-train_loss) > 0.15 and epoch > 18):\n",
        "        #   print(\"!overfitting of under fitting!\")\n",
        "        #   break\n",
        "\n",
        "    return train_losses, val_losses, train_accs, val_accs\n"
      ]
    },
    {
      "cell_type": "code",
      "execution_count": 23,
      "metadata": {
        "id": "_ASax-mAVnnm",
        "colab": {
          "base_uri": "https://localhost:8080/",
          "height": 464
        },
        "outputId": "23032979-7113-42fe-da6c-683108a6edca"
      },
      "outputs": [
        {
          "output_type": "error",
          "ename": "FileNotFoundError",
          "evalue": "ignored",
          "traceback": [
            "\u001b[0;31m---------------------------------------------------------------------------\u001b[0m",
            "\u001b[0;31mFileNotFoundError\u001b[0m                         Traceback (most recent call last)",
            "\u001b[0;32m<ipython-input-23-8c605334e697>\u001b[0m in \u001b[0;36m<cell line: 4>\u001b[0;34m()\u001b[0m\n\u001b[1;32m      2\u001b[0m \u001b[0;32mimport\u001b[0m \u001b[0mshutil\u001b[0m\u001b[0;34m\u001b[0m\u001b[0;34m\u001b[0m\u001b[0m\n\u001b[1;32m      3\u001b[0m \u001b[0;34m\u001b[0m\u001b[0m\n\u001b[0;32m----> 4\u001b[0;31m \u001b[0mdataset\u001b[0m\u001b[0;34m=\u001b[0m\u001b[0mcreate_dataset\u001b[0m\u001b[0;34m(\u001b[0m\u001b[0;34m\"Mushrooms_augmented_Mircea/\"\u001b[0m\u001b[0;34m)\u001b[0m\u001b[0;34m\u001b[0m\u001b[0;34m\u001b[0m\u001b[0m\n\u001b[0m\u001b[1;32m      5\u001b[0m \u001b[0mtarget_dir\u001b[0m \u001b[0;34m=\u001b[0m \u001b[0;34m\"/content/drive/MyDrive/MyShroomClassifier/augmented_datasets/Mushrooms_output_augment4_personal.zip\"\u001b[0m\u001b[0;34m\u001b[0m\u001b[0;34m\u001b[0m\u001b[0m\n\u001b[1;32m      6\u001b[0m \u001b[0mprint\u001b[0m\u001b[0;34m(\u001b[0m\u001b[0mos\u001b[0m\u001b[0;34m.\u001b[0m\u001b[0mlistdir\u001b[0m\u001b[0;34m(\u001b[0m\u001b[0;34m\"/content/drive/MyDrive/MyShroomClassifier/augmented_datasets/\"\u001b[0m\u001b[0;34m)\u001b[0m\u001b[0;34m)\u001b[0m\u001b[0;34m\u001b[0m\u001b[0;34m\u001b[0m\u001b[0m\n",
            "\u001b[0;32m<ipython-input-11-ca1b44c1deb2>\u001b[0m in \u001b[0;36mcreate_dataset\u001b[0;34m(parent_directory_name)\u001b[0m\n\u001b[1;32m      1\u001b[0m \u001b[0;32mdef\u001b[0m \u001b[0mcreate_dataset\u001b[0m\u001b[0;34m(\u001b[0m\u001b[0mparent_directory_name\u001b[0m\u001b[0;34m)\u001b[0m\u001b[0;34m:\u001b[0m\u001b[0;34m\u001b[0m\u001b[0;34m\u001b[0m\u001b[0m\n\u001b[0;32m----> 2\u001b[0;31m     \u001b[0mclasses\u001b[0m \u001b[0;34m=\u001b[0m \u001b[0mos\u001b[0m\u001b[0;34m.\u001b[0m\u001b[0mlistdir\u001b[0m\u001b[0;34m(\u001b[0m\u001b[0mparent_directory_name\u001b[0m\u001b[0;34m)\u001b[0m\u001b[0;34m\u001b[0m\u001b[0;34m\u001b[0m\u001b[0m\n\u001b[0m\u001b[1;32m      3\u001b[0m \u001b[0;34m\u001b[0m\u001b[0m\n\u001b[1;32m      4\u001b[0m     \u001b[0;31m# Preprocess the data:\u001b[0m\u001b[0;34m\u001b[0m\u001b[0;34m\u001b[0m\u001b[0m\n\u001b[1;32m      5\u001b[0m     \u001b[0;31m# Create the transformation for the pictures for them to be the same size and\u001b[0m\u001b[0;34m\u001b[0m\u001b[0;34m\u001b[0m\u001b[0m\n",
            "\u001b[0;31mFileNotFoundError\u001b[0m: [Errno 2] No such file or directory: 'Mushrooms_augmented_Mircea/'"
          ]
        }
      ],
      "source": [
        "from torchvision import transforms\n",
        "import shutil\n",
        "\n",
        "dataset=create_dataset(\"Mushrooms_augmented_with_personal/\")\n",
        "target_dir = \"/content/drive/MyDrive/MyShroomClassifier/augmented_datasets/Mushrooms_output_augment4_personal.zip\"\n",
        "print(os.listdir(\"/content/drive/MyDrive/MyShroomClassifier/augmented_datasets/\"))\n",
        "if not os.path.exists(target_dir):\n",
        "  classes = os.listdir(\"Mushrooms_augmented_with_personal/\")\n",
        "  split_train_val_test_augment1(dataset, \"Mushrooms_augmented_with_personal\", \"Mushrooms_output_augment4_personal\")\n",
        "\n"
      ]
    },
    {
      "cell_type": "code",
      "execution_count": 26,
      "metadata": {
        "id": "gnk77aopd53N"
      },
      "outputs": [],
      "source": [
        "!unzip /content/drive/MyDrive/MyShroomClassifier/augmented_datasets/Mushrooms_output_augment4_personal.zip\n",
        "# !unzip /content/drive/MyDrive/MyShroomClassifier/augmented_datasets/Mushrooms_output_train60_augment4_inception_personal.zip\n"
      ]
    },
    {
      "cell_type": "code",
      "execution_count": 27,
      "metadata": {
        "colab": {
          "base_uri": "https://localhost:8080/"
        },
        "id": "nZta5cp8ejmU",
        "outputId": "27bc02d4-0bbe-427d-f75c-261ee7a69ea4"
      },
      "outputs": [
        {
          "output_type": "stream",
          "name": "stdout",
          "text": [
            "weights_dict{0: 0.1111111111111111, 1: 0.1111111111111111, 2: 0.1111111111111111, 3: 0.1111111111111111, 4: 0.1111111111111111, 5: 0.1111111111111111, 6: 0.1111111111111111, 7: 0.1111111111111111, 8: 0.1111111111111111}\n",
            "{0: 1173, 1: 1173, 2: 1173, 3: 1173, 4: 1173, 5: 1173, 6: 1173, 7: 1173, 8: 1173}\n"
          ]
        }
      ],
      "source": [
        "from torchvision import transforms\n",
        "\n",
        "transforms = transforms.Compose([transforms.Resize((224, 224)),\n",
        "                                 transforms.ToTensor(),\n",
        "                                 transforms.Normalize([0.485, 0.456, 0.406], [0.229, 0.224, 0.225])])\n",
        "train_dataset = datasets.ImageFolder(\"Mushrooms_output_augment4_personal/train\", transform=transforms)\n",
        "val_dataset = datasets.ImageFolder(\"Mushrooms_output_augment4_personal/val\", transform=transforms)\n",
        "test_dataset = datasets.ImageFolder(\"Mushrooms_output_augment4_personal/test\", transform=transforms)\n",
        "\n",
        "\n",
        "# Calculate the weights for each class(raw_weights) and the normalized version of it(train_dataset_weights\n",
        "# Create dictionary with class label as keys and class_weight as values\n",
        "train_dataset_distribution =load_from_file(\"/content/drive/MyDrive/MyShroomClassifier/util_files/classes_with_their_img_count_train_augment4_personal.pickle\")\n",
        "train_dataset_normalized_weights = calculate_weights(train_dataset, train_dataset_distribution, \"augment4_personal\")\n",
        "print(train_dataset_distribution)\n",
        "sample_weights = torch.Tensor([train_dataset_normalized_weights[label] for label in train_dataset.targets])\n",
        "\n",
        "\n",
        "\n",
        "batch_size = 128\n",
        "# You don't need shuffle bc the dataset that was split was already shuffled\n",
        "# Create dataloaders\n",
        "train_loader = DataLoader(train_dataset, batch_size=batch_size, shuffle=True)\n",
        "val_loader = DataLoader(val_dataset, batch_size=batch_size, shuffle=False)\n",
        "test_loader = DataLoader(test_dataset, batch_size=batch_size, shuffle=False)\n"
      ]
    },
    {
      "cell_type": "code",
      "execution_count": 28,
      "metadata": {
        "colab": {
          "base_uri": "https://localhost:8080/",
          "height": 216
        },
        "id": "Ty4bNEIV_yJe",
        "outputId": "3e48554a-489e-4880-f8ac-d4f3a4d622bc"
      },
      "outputs": [
        {
          "output_type": "display_data",
          "data": {
            "text/plain": [
              "<Figure size 1600x480 with 1 Axes>"
            ],
            "image/png": "[encoded data removed]"
          },
          "metadata": {}
        }
      ],
      "source": [
        "import matplotlib.pyplot as plt\n",
        "\n",
        "def get_class_distribution_loaders(dataloader_obj, dataset_obj):\n",
        "    count_dict = {k:0 for k,v in dataset_obj.class_to_idx.items()}\n",
        "\n",
        "    idx2class = {v: k for k, v in dataset_obj.class_to_idx.items()}\n",
        "    for _,j in dataloader_obj:\n",
        "\n",
        "      y_indexes = j.data\n",
        "\n",
        "      for y_index in y_indexes:\n",
        "        y_lbl = idx2class[y_index.item()]\n",
        "        count_dict[str(y_lbl)] += 1\n",
        "\n",
        "    return count_dict\n",
        "\n",
        "class_distr_val = get_class_distribution_loaders(val_loader, val_dataset)\n",
        "class_distr_train = get_class_distribution_loaders(train_loader, train_dataset)\n",
        "\n",
        "\n",
        "names_train = list(class_distr_train.keys())\n",
        "\n",
        "values_train = class_distr_train.values()\n",
        "values_val = class_distr_val.values()\n",
        "\n",
        "#train_dataset distribution after augmentation\n",
        "plt.figure().set_figwidth(16)\n",
        "plt.bar(range(len(class_distr_val)), values_train, tick_label=names_train)\n",
        "plt.show()\n",
        "\n"
      ]
    },
    {
      "cell_type": "code",
      "execution_count": null,
      "metadata": {
        "colab": {
          "base_uri": "https://localhost:8080/",
          "height": 326
        },
        "id": "futiohehKFBH",
        "outputId": "51727fb2-6fe1-43d8-d3fd-169d2a527db6"
      },
      "outputs": [
        {
          "output_type": "display_data",
          "data": {
            "text/plain": [
              "<Figure size 1600x480 with 1 Axes>"
            ],
            "image/png": "[encoded data removed]"
          },
          "metadata": {}
        }
      ],
      "source": [
        "#validation data_set distribution\n",
        "plt.figure().set_figwidth(16)\n",
        "plt.bar(range(len(class_distr_val)), values_val, tick_label=names_train)\n",
        "plt.show()\n"
      ]
    },
    {
      "cell_type": "code",
      "execution_count": 29,
      "metadata": {
        "colab": {
          "base_uri": "https://localhost:8080/"
        },
        "id": "1Sd72YCb3Gh0",
        "outputId": "4135f3cb-574a-4947-d3e3-6518ee501289"
      },
      "outputs": [
        {
          "output_type": "stream",
          "name": "stdout",
          "text": [
            "10557\n"
          ]
        }
      ],
      "source": [
        "print(len(train_dataset))"
      ]
    },
    {
      "cell_type": "code",
      "execution_count": 45,
      "metadata": {
        "id": "yMBW0nNOUVVx",
        "colab": {
          "base_uri": "https://localhost:8080/"
        },
        "outputId": "57bb2cc9-1e12-47c2-94e4-28c6c4860fd8"
      },
      "outputs": [
        {
          "output_type": "stream",
          "name": "stdout",
          "text": [
            "Linear(in_features=512, out_features=1000, bias=True)\n",
            "Sequential(\n",
            "  (0): Linear(in_features=512, out_features=9, bias=True)\n",
            "  (1): ReLU()\n",
            "  (2): Dropout(p=0.5, inplace=False)\n",
            ")\n",
            "is on cuda: True\n"
          ]
        },
        {
          "output_type": "stream",
          "name": "stderr",
          "text": [
            "100%|██████████| 83/83 [00:42<00:00,  1.93it/s]\n"
          ]
        },
        {
          "output_type": "stream",
          "name": "stdout",
          "text": [
            "Epoch 1 - Train Loss: 2.1634 - Train Acc: 0.1592 - Val Loss: 1.9344 - Val Acc: 0.3600 - learning rate: 0.001\n",
            "Validation loss decreased (inf --> 1907.335903).  Saving model ...\n"
          ]
        },
        {
          "output_type": "stream",
          "name": "stderr",
          "text": [
            "100%|██████████| 83/83 [00:42<00:00,  1.93it/s]\n"
          ]
        },
        {
          "output_type": "stream",
          "name": "stdout",
          "text": [
            "Epoch 2 - Train Loss: 2.0284 - Train Acc: 0.2236 - Val Loss: 1.8081 - Val Acc: 0.4047 - learning rate: 0.001\n",
            "Validation loss decreased (1907.335903 --> 1782.800569).  Saving model ...\n"
          ]
        },
        {
          "output_type": "stream",
          "name": "stderr",
          "text": [
            "100%|██████████| 83/83 [00:42<00:00,  1.97it/s]\n"
          ]
        },
        {
          "output_type": "stream",
          "name": "stdout",
          "text": [
            "Epoch 3 - Train Loss: 1.9456 - Train Acc: 0.2561 - Val Loss: 1.7225 - Val Acc: 0.4361 - learning rate: 0.001\n",
            "Validation loss decreased (1782.800569 --> 1698.337748).  Saving model ...\n"
          ]
        },
        {
          "output_type": "stream",
          "name": "stderr",
          "text": [
            "100%|██████████| 83/83 [00:41<00:00,  1.98it/s]\n"
          ]
        },
        {
          "output_type": "stream",
          "name": "stdout",
          "text": [
            "Epoch 4 - Train Loss: 1.8908 - Train Acc: 0.2717 - Val Loss: 1.6595 - Val Acc: 0.4473 - learning rate: 0.001\n",
            "Validation loss decreased (1698.337748 --> 1636.274345).  Saving model ...\n"
          ]
        },
        {
          "output_type": "stream",
          "name": "stderr",
          "text": [
            "100%|██████████| 83/83 [00:42<00:00,  1.97it/s]\n"
          ]
        },
        {
          "output_type": "stream",
          "name": "stdout",
          "text": [
            "Epoch 5 - Train Loss: 1.8704 - Train Acc: 0.2753 - Val Loss: 1.6299 - Val Acc: 0.4594 - learning rate: 0.001\n",
            "Validation loss decreased (1636.274345 --> 1607.102926).  Saving model ...\n"
          ]
        },
        {
          "output_type": "stream",
          "name": "stderr",
          "text": [
            "100%|██████████| 83/83 [00:42<00:00,  1.96it/s]\n"
          ]
        },
        {
          "output_type": "stream",
          "name": "stdout",
          "text": [
            "Epoch 6 - Train Loss: 1.8308 - Train Acc: 0.2875 - Val Loss: 1.6066 - Val Acc: 0.4675 - learning rate: 0.001\n",
            "Validation loss decreased (1607.102926 --> 1584.064079).  Saving model ...\n"
          ]
        },
        {
          "output_type": "stream",
          "name": "stderr",
          "text": [
            "100%|██████████| 83/83 [00:42<00:00,  1.97it/s]\n"
          ]
        },
        {
          "output_type": "stream",
          "name": "stdout",
          "text": [
            "Epoch 7 - Train Loss: 1.8087 - Train Acc: 0.2953 - Val Loss: 1.5795 - Val Acc: 0.4706 - learning rate: 0.001\n",
            "Validation loss decreased (1584.064079 --> 1557.342100).  Saving model ...\n"
          ]
        },
        {
          "output_type": "stream",
          "name": "stderr",
          "text": [
            "100%|██████████| 83/83 [00:41<00:00,  1.99it/s]\n"
          ]
        },
        {
          "output_type": "stream",
          "name": "stdout",
          "text": [
            "Epoch 8 - Train Loss: 1.7872 - Train Acc: 0.3018 - Val Loss: 1.5531 - Val Acc: 0.4726 - learning rate: 0.001\n",
            "Validation loss decreased (1557.342100 --> 1531.314993).  Saving model ...\n"
          ]
        },
        {
          "output_type": "stream",
          "name": "stderr",
          "text": [
            "100%|██████████| 83/83 [00:43<00:00,  1.93it/s]\n"
          ]
        },
        {
          "output_type": "stream",
          "name": "stdout",
          "text": [
            "Epoch 9 - Train Loss: 1.7726 - Train Acc: 0.3074 - Val Loss: 1.5357 - Val Acc: 0.4706 - learning rate: 0.001\n",
            "Validation loss decreased (1531.314993 --> 1514.172735).  Saving model ...\n"
          ]
        },
        {
          "output_type": "stream",
          "name": "stderr",
          "text": [
            "100%|██████████| 83/83 [00:41<00:00,  1.98it/s]\n"
          ]
        },
        {
          "output_type": "stream",
          "name": "stdout",
          "text": [
            "Epoch 10 - Train Loss: 1.7642 - Train Acc: 0.3084 - Val Loss: 1.5219 - Val Acc: 0.4686 - learning rate: 0.001\n",
            "Validation loss decreased (1514.172735 --> 1500.576448).  Saving model ...\n"
          ]
        },
        {
          "output_type": "stream",
          "name": "stderr",
          "text": [
            "100%|██████████| 83/83 [00:41<00:00,  1.98it/s]\n"
          ]
        },
        {
          "output_type": "stream",
          "name": "stdout",
          "text": [
            "Epoch 11 - Train Loss: 1.7459 - Train Acc: 0.3128 - Val Loss: 1.5220 - Val Acc: 0.4726 - learning rate: 0.001\n",
            "EarlyStopping counter: 1 out of 5\n"
          ]
        },
        {
          "output_type": "stream",
          "name": "stderr",
          "text": [
            "100%|██████████| 83/83 [00:41<00:00,  2.00it/s]\n"
          ]
        },
        {
          "output_type": "stream",
          "name": "stdout",
          "text": [
            "Epoch 12 - Train Loss: 1.6958 - Train Acc: 0.3170 - Val Loss: 1.4996 - Val Acc: 0.4828 - learning rate: 0.001\n",
            "Validation loss decreased (1500.576448 --> 1478.574371).  Saving model ...\n"
          ]
        },
        {
          "output_type": "stream",
          "name": "stderr",
          "text": [
            "100%|██████████| 83/83 [00:41<00:00,  2.01it/s]\n"
          ]
        },
        {
          "output_type": "stream",
          "name": "stdout",
          "text": [
            "Epoch 13 - Train Loss: 1.6814 - Train Acc: 0.3153 - Val Loss: 1.4680 - Val Acc: 0.4848 - learning rate: 0.001\n",
            "Validation loss decreased (1478.574371 --> 1447.423680).  Saving model ...\n"
          ]
        },
        {
          "output_type": "stream",
          "name": "stderr",
          "text": [
            "100%|██████████| 83/83 [00:41<00:00,  2.01it/s]\n"
          ]
        },
        {
          "output_type": "stream",
          "name": "stdout",
          "text": [
            "Epoch 14 - Train Loss: 1.6635 - Train Acc: 0.3167 - Val Loss: 1.4691 - Val Acc: 0.4878 - learning rate: 0.001\n",
            "EarlyStopping counter: 1 out of 5\n"
          ]
        },
        {
          "output_type": "stream",
          "name": "stderr",
          "text": [
            "100%|██████████| 83/83 [00:43<00:00,  1.93it/s]\n"
          ]
        },
        {
          "output_type": "stream",
          "name": "stdout",
          "text": [
            "Epoch 15 - Train Loss: 1.6523 - Train Acc: 0.3187 - Val Loss: 1.4641 - Val Acc: 0.4858 - learning rate: 0.001\n",
            "Validation loss decreased (1447.423680 --> 1443.620843).  Saving model ...\n"
          ]
        },
        {
          "output_type": "stream",
          "name": "stderr",
          "text": [
            "100%|██████████| 83/83 [00:42<00:00,  1.98it/s]\n"
          ]
        },
        {
          "output_type": "stream",
          "name": "stdout",
          "text": [
            "Epoch 16 - Train Loss: 1.6425 - Train Acc: 0.3200 - Val Loss: 1.4478 - Val Acc: 0.4858 - learning rate: 0.001\n",
            "Validation loss decreased (1443.620843 --> 1427.537427).  Saving model ...\n"
          ]
        },
        {
          "output_type": "stream",
          "name": "stderr",
          "text": [
            "100%|██████████| 83/83 [00:41<00:00,  2.00it/s]\n"
          ]
        },
        {
          "output_type": "stream",
          "name": "stdout",
          "text": [
            "Epoch 17 - Train Loss: 1.6425 - Train Acc: 0.3157 - Val Loss: 1.4526 - Val Acc: 0.4878 - learning rate: 0.001\n",
            "EarlyStopping counter: 1 out of 5\n"
          ]
        },
        {
          "output_type": "stream",
          "name": "stderr",
          "text": [
            "100%|██████████| 83/83 [00:41<00:00,  2.00it/s]\n"
          ]
        },
        {
          "output_type": "stream",
          "name": "stdout",
          "text": [
            "Epoch 18 - Train Loss: 1.6325 - Train Acc: 0.3199 - Val Loss: 1.4538 - Val Acc: 0.4878 - learning rate: 0.001\n",
            "EarlyStopping counter: 2 out of 5\n"
          ]
        },
        {
          "output_type": "stream",
          "name": "stderr",
          "text": [
            "100%|██████████| 83/83 [00:41<00:00,  2.00it/s]\n"
          ]
        },
        {
          "output_type": "stream",
          "name": "stdout",
          "text": [
            "Epoch 19 - Train Loss: 1.6220 - Train Acc: 0.3199 - Val Loss: 1.4434 - Val Acc: 0.4899 - learning rate: 0.001\n",
            "Validation loss decreased (1427.537427 --> 1423.188277).  Saving model ...\n"
          ]
        },
        {
          "output_type": "stream",
          "name": "stderr",
          "text": [
            "100%|██████████| 83/83 [00:41<00:00,  2.00it/s]\n"
          ]
        },
        {
          "output_type": "stream",
          "name": "stdout",
          "text": [
            "Epoch 20 - Train Loss: 1.6147 - Train Acc: 0.3281 - Val Loss: 1.4345 - Val Acc: 0.4949 - learning rate: 0.001\n",
            "Validation loss decreased (1423.188277 --> 1414.444518).  Saving model ...\n"
          ]
        },
        {
          "output_type": "stream",
          "name": "stderr",
          "text": [
            "100%|██████████| 83/83 [00:42<00:00,  1.95it/s]\n"
          ]
        },
        {
          "output_type": "stream",
          "name": "stdout",
          "text": [
            "Epoch 21 - Train Loss: 1.6233 - Train Acc: 0.3235 - Val Loss: 1.4359 - Val Acc: 0.4919 - learning rate: 0.001\n",
            "EarlyStopping counter: 1 out of 5\n"
          ]
        },
        {
          "output_type": "stream",
          "name": "stderr",
          "text": [
            "100%|██████████| 83/83 [00:41<00:00,  2.01it/s]\n"
          ]
        },
        {
          "output_type": "stream",
          "name": "stdout",
          "text": [
            "Epoch 22 - Train Loss: 1.5796 - Train Acc: 0.3539 - Val Loss: 1.3482 - Val Acc: 0.5609 - learning rate: 0.001\n",
            "Validation loss decreased (1414.444518 --> 1329.345102).  Saving model ...\n"
          ]
        },
        {
          "output_type": "stream",
          "name": "stderr",
          "text": [
            "100%|██████████| 83/83 [00:41<00:00,  2.01it/s]\n"
          ]
        },
        {
          "output_type": "stream",
          "name": "stdout",
          "text": [
            "Epoch 23 - Train Loss: 1.5311 - Train Acc: 0.3677 - Val Loss: 1.3190 - Val Acc: 0.5649 - learning rate: 0.001\n",
            "Validation loss decreased (1329.345102 --> 1300.521951).  Saving model ...\n"
          ]
        },
        {
          "output_type": "stream",
          "name": "stderr",
          "text": [
            "100%|██████████| 83/83 [00:41<00:00,  2.00it/s]\n"
          ]
        },
        {
          "output_type": "stream",
          "name": "stdout",
          "text": [
            "Epoch 24 - Train Loss: 1.5177 - Train Acc: 0.3722 - Val Loss: 1.2984 - Val Acc: 0.5669 - learning rate: 0.001\n",
            "Validation loss decreased (1300.521951 --> 1280.173596).  Saving model ...\n"
          ]
        },
        {
          "output_type": "stream",
          "name": "stderr",
          "text": [
            "100%|██████████| 83/83 [00:41<00:00,  2.01it/s]\n"
          ]
        },
        {
          "output_type": "stream",
          "name": "stdout",
          "text": [
            "Epoch 25 - Train Loss: 1.5053 - Train Acc: 0.3733 - Val Loss: 1.2840 - Val Acc: 0.5680 - learning rate: 0.001\n",
            "Validation loss decreased (1280.173596 --> 1266.017641).  Saving model ...\n"
          ]
        },
        {
          "output_type": "stream",
          "name": "stderr",
          "text": [
            "100%|██████████| 83/83 [00:41<00:00,  2.02it/s]\n"
          ]
        },
        {
          "output_type": "stream",
          "name": "stdout",
          "text": [
            "Epoch 26 - Train Loss: 1.4912 - Train Acc: 0.3796 - Val Loss: 1.3002 - Val Acc: 0.5629 - learning rate: 0.001\n",
            "EarlyStopping counter: 1 out of 5\n"
          ]
        },
        {
          "output_type": "stream",
          "name": "stderr",
          "text": [
            "100%|██████████| 83/83 [00:41<00:00,  2.01it/s]\n"
          ]
        },
        {
          "output_type": "stream",
          "name": "stdout",
          "text": [
            "Epoch 27 - Train Loss: 1.5027 - Train Acc: 0.3764 - Val Loss: 1.2899 - Val Acc: 0.5680 - learning rate: 0.001\n",
            "EarlyStopping counter: 2 out of 5\n"
          ]
        },
        {
          "output_type": "stream",
          "name": "stderr",
          "text": [
            "100%|██████████| 83/83 [00:42<00:00,  1.95it/s]\n"
          ]
        },
        {
          "output_type": "stream",
          "name": "stdout",
          "text": [
            "Epoch 28 - Train Loss: 1.4950 - Train Acc: 0.3796 - Val Loss: 1.2870 - Val Acc: 0.5629 - learning rate: 0.001\n",
            "EarlyStopping counter: 3 out of 5\n"
          ]
        },
        {
          "output_type": "stream",
          "name": "stderr",
          "text": [
            "100%|██████████| 83/83 [00:41<00:00,  2.01it/s]\n"
          ]
        },
        {
          "output_type": "stream",
          "name": "stdout",
          "text": [
            "Epoch 29 - Train Loss: 1.4903 - Train Acc: 0.3782 - Val Loss: 1.2771 - Val Acc: 0.5629 - learning rate: 0.0001\n",
            "Validation loss decreased (1266.017641 --> 1259.250298).  Saving model ...\n"
          ]
        },
        {
          "output_type": "stream",
          "name": "stderr",
          "text": [
            "100%|██████████| 83/83 [00:41<00:00,  2.01it/s]\n"
          ]
        },
        {
          "output_type": "stream",
          "name": "stdout",
          "text": [
            "Epoch 30 - Train Loss: 1.4914 - Train Acc: 0.3762 - Val Loss: 1.2797 - Val Acc: 0.5649 - learning rate: 0.0001\n",
            "EarlyStopping counter: 1 out of 5\n"
          ]
        },
        {
          "output_type": "stream",
          "name": "stderr",
          "text": [
            "100%|██████████| 83/83 [00:41<00:00,  2.01it/s]\n"
          ]
        },
        {
          "output_type": "stream",
          "name": "stdout",
          "text": [
            "Epoch 31 - Train Loss: 1.4921 - Train Acc: 0.3791 - Val Loss: 1.2722 - Val Acc: 0.5629 - learning rate: 0.0001\n",
            "Validation loss decreased (1259.250298 --> 1254.421064).  Saving model ...\n"
          ]
        },
        {
          "output_type": "stream",
          "name": "stderr",
          "text": [
            "100%|██████████| 83/83 [00:41<00:00,  2.01it/s]\n"
          ]
        },
        {
          "output_type": "stream",
          "name": "stdout",
          "text": [
            "Epoch 32 - Train Loss: 1.5105 - Train Acc: 0.3702 - Val Loss: 1.2737 - Val Acc: 0.5619 - learning rate: 0.0001\n",
            "EarlyStopping counter: 1 out of 5\n"
          ]
        },
        {
          "output_type": "stream",
          "name": "stderr",
          "text": [
            "100%|██████████| 83/83 [00:41<00:00,  2.01it/s]\n"
          ]
        },
        {
          "output_type": "stream",
          "name": "stdout",
          "text": [
            "Epoch 33 - Train Loss: 1.5013 - Train Acc: 0.3732 - Val Loss: 1.2714 - Val Acc: 0.5629 - learning rate: 0.0001\n",
            "Validation loss decreased (1254.421064 --> 1253.559773).  Saving model ...\n"
          ]
        },
        {
          "output_type": "stream",
          "name": "stderr",
          "text": [
            "100%|██████████| 83/83 [00:41<00:00,  1.99it/s]\n"
          ]
        },
        {
          "output_type": "stream",
          "name": "stdout",
          "text": [
            "Epoch 34 - Train Loss: 1.4860 - Train Acc: 0.3815 - Val Loss: 1.2717 - Val Acc: 0.5700 - learning rate: 0.0001\n",
            "EarlyStopping counter: 1 out of 5\n"
          ]
        },
        {
          "output_type": "stream",
          "name": "stderr",
          "text": [
            "100%|██████████| 83/83 [00:41<00:00,  2.02it/s]\n"
          ]
        },
        {
          "output_type": "stream",
          "name": "stdout",
          "text": [
            "Epoch 35 - Train Loss: 1.4950 - Train Acc: 0.3751 - Val Loss: 1.2773 - Val Acc: 0.5680 - learning rate: 0.0001\n",
            "EarlyStopping counter: 2 out of 5\n"
          ]
        },
        {
          "output_type": "stream",
          "name": "stderr",
          "text": [
            "100%|██████████| 83/83 [00:41<00:00,  2.01it/s]\n"
          ]
        },
        {
          "output_type": "stream",
          "name": "stdout",
          "text": [
            "Epoch 36 - Train Loss: 1.5040 - Train Acc: 0.3722 - Val Loss: 1.2702 - Val Acc: 0.5659 - learning rate: 0.0001\n",
            "Validation loss decreased (1253.559773 --> 1252.399925).  Saving model ...\n"
          ]
        },
        {
          "output_type": "stream",
          "name": "stderr",
          "text": [
            "100%|██████████| 83/83 [00:41<00:00,  2.02it/s]\n"
          ]
        },
        {
          "output_type": "stream",
          "name": "stdout",
          "text": [
            "Epoch 37 - Train Loss: 1.4893 - Train Acc: 0.3786 - Val Loss: 1.2746 - Val Acc: 0.5629 - learning rate: 0.0001\n",
            "EarlyStopping counter: 1 out of 5\n"
          ]
        },
        {
          "output_type": "stream",
          "name": "stderr",
          "text": [
            "100%|██████████| 83/83 [00:41<00:00,  2.02it/s]\n"
          ]
        },
        {
          "output_type": "stream",
          "name": "stdout",
          "text": [
            "Epoch 38 - Train Loss: 1.4785 - Train Acc: 0.3815 - Val Loss: 1.2727 - Val Acc: 0.5649 - learning rate: 0.0001\n",
            "EarlyStopping counter: 2 out of 5\n"
          ]
        },
        {
          "output_type": "stream",
          "name": "stderr",
          "text": [
            "100%|██████████| 83/83 [00:41<00:00,  2.02it/s]\n"
          ]
        },
        {
          "output_type": "stream",
          "name": "stdout",
          "text": [
            "Epoch 39 - Train Loss: 1.5001 - Train Acc: 0.3767 - Val Loss: 1.2693 - Val Acc: 0.5639 - learning rate: 0.0001\n",
            "Validation loss decreased (1252.399925 --> 1251.577604).  Saving model ...\n"
          ]
        },
        {
          "output_type": "stream",
          "name": "stderr",
          "text": [
            "100%|██████████| 83/83 [00:41<00:00,  1.99it/s]\n"
          ]
        },
        {
          "output_type": "stream",
          "name": "stdout",
          "text": [
            "Epoch 40 - Train Loss: 1.4972 - Train Acc: 0.3757 - Val Loss: 1.2709 - Val Acc: 0.5659 - learning rate: 0.0001\n",
            "EarlyStopping counter: 1 out of 5\n"
          ]
        },
        {
          "output_type": "stream",
          "name": "stderr",
          "text": [
            "100%|██████████| 83/83 [00:41<00:00,  2.01it/s]\n"
          ]
        },
        {
          "output_type": "stream",
          "name": "stdout",
          "text": [
            "Epoch 41 - Train Loss: 1.4889 - Train Acc: 0.3817 - Val Loss: 1.2683 - Val Acc: 0.5720 - learning rate: 0.0001\n",
            "Validation loss decreased (1251.577604 --> 1250.536487).  Saving model ...\n"
          ]
        },
        {
          "output_type": "stream",
          "name": "stderr",
          "text": [
            "100%|██████████| 83/83 [00:41<00:00,  2.01it/s]\n"
          ]
        },
        {
          "output_type": "stream",
          "name": "stdout",
          "text": [
            "Epoch 42 - Train Loss: 1.4893 - Train Acc: 0.3806 - Val Loss: 1.2716 - Val Acc: 0.5649 - learning rate: 0.0001\n",
            "EarlyStopping counter: 1 out of 5\n"
          ]
        },
        {
          "output_type": "stream",
          "name": "stderr",
          "text": [
            "100%|██████████| 83/83 [00:41<00:00,  2.02it/s]\n"
          ]
        },
        {
          "output_type": "stream",
          "name": "stdout",
          "text": [
            "Epoch 43 - Train Loss: 1.4947 - Train Acc: 0.3769 - Val Loss: 1.2606 - Val Acc: 0.5700 - learning rate: 0.0001\n",
            "Validation loss decreased (1250.536487 --> 1242.921688).  Saving model ...\n"
          ]
        },
        {
          "output_type": "stream",
          "name": "stderr",
          "text": [
            "100%|██████████| 83/83 [00:41<00:00,  2.00it/s]\n"
          ]
        },
        {
          "output_type": "stream",
          "name": "stdout",
          "text": [
            "Epoch 44 - Train Loss: 1.4838 - Train Acc: 0.3803 - Val Loss: 1.2699 - Val Acc: 0.5669 - learning rate: 0.0001\n",
            "EarlyStopping counter: 1 out of 5\n"
          ]
        },
        {
          "output_type": "stream",
          "name": "stderr",
          "text": [
            "100%|██████████| 83/83 [00:42<00:00,  1.94it/s]\n"
          ]
        },
        {
          "output_type": "stream",
          "name": "stdout",
          "text": [
            "Epoch 45 - Train Loss: 1.4998 - Train Acc: 0.3763 - Val Loss: 1.2630 - Val Acc: 0.5669 - learning rate: 0.0001\n",
            "EarlyStopping counter: 2 out of 5\n"
          ]
        },
        {
          "output_type": "stream",
          "name": "stderr",
          "text": [
            "100%|██████████| 83/83 [00:42<00:00,  1.97it/s]\n"
          ]
        },
        {
          "output_type": "stream",
          "name": "stdout",
          "text": [
            "Epoch 46 - Train Loss: 1.4973 - Train Acc: 0.3776 - Val Loss: 1.2692 - Val Acc: 0.5649 - learning rate: 0.0001\n",
            "EarlyStopping counter: 3 out of 5\n"
          ]
        },
        {
          "output_type": "stream",
          "name": "stderr",
          "text": [
            "100%|██████████| 83/83 [00:43<00:00,  1.93it/s]\n"
          ]
        },
        {
          "output_type": "stream",
          "name": "stdout",
          "text": [
            "Epoch 47 - Train Loss: 1.4885 - Train Acc: 0.3816 - Val Loss: 1.2656 - Val Acc: 0.5669 - learning rate: 1e-05\n",
            "EarlyStopping counter: 4 out of 5\n"
          ]
        },
        {
          "output_type": "stream",
          "name": "stderr",
          "text": [
            "100%|██████████| 83/83 [00:42<00:00,  1.95it/s]\n"
          ]
        },
        {
          "output_type": "stream",
          "name": "stdout",
          "text": [
            "Epoch 48 - Train Loss: 1.4940 - Train Acc: 0.3769 - Val Loss: 1.2749 - Val Acc: 0.5649 - learning rate: 1e-05\n",
            "EarlyStopping counter: 5 out of 5\n",
            "Early stopping\n",
            "MAX VALIDATION ACCURACY: 0.5720081135902637\n"
          ]
        }
      ],
      "source": [
        "device = torch.device('cuda' if torch.cuda.is_available() else 'cpu')\n",
        "\n",
        "model, criterion,scheduler, optimizer = prepare_model(device, train_dataset_normalized_weights)\n",
        "train_losses, val_losses, train_accs, val_accs = train_model(model, train_loader, val_loader, criterion, scheduler, optimizer, 50, device)\n",
        "print(\"MAX VALIDATION ACCURACY:\",max(val_accs))\n"
      ]
    },
    {
      "cell_type": "code",
      "execution_count": 43,
      "metadata": {
        "colab": {
          "base_uri": "https://localhost:8080/",
          "height": 945
        },
        "id": "8c6AlEMcbgcK",
        "outputId": "6f74c7a9-5e0e-47bb-bbbe-2acf6fb93fe0"
      },
      "outputs": [
        {
          "output_type": "display_data",
          "data": {
            "text/plain": [
              "<Figure size 640x480 with 1 Axes>"
            ],
            "image/png": "[encoded data removed]"
          },
          "metadata": {}
        },
        {
          "output_type": "execute_result",
          "data": {
            "text/plain": [
              "Text(0.5, 1.0, 'Train vs Valid Loss')"
            ]
          },
          "metadata": {},
          "execution_count": 43
        },
        {
          "output_type": "display_data",
          "data": {
            "text/plain": [
              "<Figure size 640x480 with 1 Axes>"
            ],
            "image/png": "[encoded data removed]"
          },
          "metadata": {}
        }
      ],
      "source": [
        "\n",
        "plt.plot(train_accs,'-o')\n",
        "plt.plot(val_accs,'-o')\n",
        "plt.xlabel('epoch')\n",
        "plt.ylabel('accuracy')\n",
        "plt.legend(['Train','Valid'])\n",
        "plt.title('Train vs Valid Accuracy')\n",
        "\n",
        "plt.show()\n",
        "\n",
        "\n",
        "plt.plot(train_losses,'-o')\n",
        "plt.plot(val_losses,'-o')\n",
        "plt.xlabel('epoch')\n",
        "plt.ylabel('loss')\n",
        "plt.legend(['Train','Valid'])\n",
        "plt.title('Train vs Valid Loss')"
      ]
    },
    {
      "cell_type": "markdown",
      "metadata": {
        "id": "DtMwkD4PleVI"
      },
      "source": [
        "# **TESTING**"
      ]
    },
    {
      "cell_type": "code",
      "execution_count": null,
      "metadata": {
        "colab": {
          "base_uri": "https://localhost:8080/"
        },
        "id": "UCjcyQPdJ5sZ",
        "outputId": "b3ccbc3c-21b7-4c17-99d6-e1cb0aaeabb8"
      },
      "outputs": [
        {
          "output_type": "stream",
          "name": "stdout",
          "text": [
            "6\n"
          ]
        }
      ],
      "source": [
        "def test_model(model):\n",
        "  model.to(\"cuda\")\n",
        "  test_loss = 0\n",
        "  correct = 0\n",
        "  total = 0\n",
        "  print(len(test_loader))\n",
        "  expected_classes = []\n",
        "  predicted_classes = []\n",
        "  model.eval()\n",
        "  # Disable gradient computation for efficiency\n",
        "  with torch.no_grad():\n",
        "      # Iterate over the test dataset\n",
        "      for data, target in test_loader:\n",
        "          # Move the data to the specified device\n",
        "          data, target = data.to(device), target.to(device)\n",
        "          expected_classes.extend(target.int().tolist())\n",
        "          # Forward pass\n",
        "          output = model(data)\n",
        "\n",
        "          # Compute the loss\n",
        "          test_loss += F.cross_entropy(output, target, reduction='sum').item()\n",
        "\n",
        "          # Compute the predicted classes\n",
        "          _, predicted = torch.max(output.data, 1)\n",
        "\n",
        "          predicted_classes.extend(predicted.int().tolist())\n",
        "          # Update the accuracy\n",
        "          total += target.size(0)\n",
        "          correct += (predicted == target).sum().item()\n",
        "\n",
        "  # Compute the average test loss and accuracy\n",
        "  test_loss /= len(test_loader.dataset)\n",
        "  test_acc = 100. * correct / total\n",
        "\n",
        "  # Print the test results\n",
        "  # print('Test Loss: {:.4f}, Test Accuracy: {:.2f}%'.format(test_loss, test_acc))\n",
        "\n",
        "  # Return the test loss and accuracy\n",
        "  return test_loss, test_acc, expected_classes,predicted_classes\n",
        "\n",
        "test_losses, test_accs,expected_classes, predicted_classes = test_model(model)\n",
        "\n",
        "\n"
      ]
    },
    {
      "cell_type": "markdown",
      "metadata": {
        "id": "UKL6yeXWeeqS"
      },
      "source": [
        "## **TEST with F1 Score:**"
      ]
    },
    {
      "cell_type": "code",
      "execution_count": null,
      "metadata": {
        "colab": {
          "base_uri": "https://localhost:8080/"
        },
        "id": "G7pzZ3zEmVn-",
        "outputId": "b6b5cb65-f1f7-492a-ce2d-bcfbbda03b4a"
      },
      "outputs": [
        {
          "output_type": "stream",
          "name": "stdout",
          "text": [
            "F1 Score: 0.6432836055755615\n"
          ]
        }
      ],
      "source": [
        "predicted_tensor = torch.Tensor(predicted_classes)\n",
        "expected_tensor = torch.Tensor(expected_classes)\n",
        "#F1 Score\n",
        "print(f\"F1 Score: {multiclass_f1_score(predicted_tensor, expected_tensor, num_classes=9)}\")\n"
      ]
    },
    {
      "cell_type": "markdown",
      "metadata": {
        "id": "cUTE6dW1lPDS"
      },
      "source": [
        "## **TEST with Recall Metric**"
      ]
    },
    {
      "cell_type": "code",
      "execution_count": null,
      "metadata": {
        "colab": {
          "base_uri": "https://localhost:8080/"
        },
        "id": "jDg20wnTlOBe",
        "outputId": "edb5ffc9-068f-4857-8c53-f292f8b6b41b"
      },
      "outputs": [
        {
          "output_type": "stream",
          "name": "stdout",
          "text": [
            "Recall metric: 0.6432836055755615\n"
          ]
        }
      ],
      "source": [
        "metric = MulticlassRecall(num_classes=9, average='weighted')\n",
        "print(f\"Recall metric: {metric(predicted_tensor, expected_tensor)}\")"
      ]
    },
    {
      "cell_type": "code",
      "execution_count": null,
      "metadata": {
        "id": "696dhjtsEpnG"
      },
      "outputs": [],
      "source": [
        "model.to(\"cpu\")"
      ]
    },
    {
      "cell_type": "code",
      "execution_count": null,
      "metadata": {
        "id": "j1MOSDXKnMvx"
      },
      "outputs": [],
      "source": [
        "\n",
        "# Switch the model to eval model\n",
        "model.eval()\n",
        "\n",
        "# An example input you would normally provide to your model's forward() method.\n",
        "example = torch.rand(1, 3, 224, 224)\n",
        "# Use torch.jit.trace to generate a torch.jit.ScriptModule via tracing.\n",
        "traced_script_module = torch.jit.trace(model, example)\n",
        "\n",
        "# Save the TorchScript model\n",
        "traced_script_module.save('drive/MyDrive/MyShroomClassifier/Models/traced_model_resnet34_a4_6194_with_adagrad.pt')"
      ]
    }
  ],
  "metadata": {
    "accelerator": "GPU",
    "colab": {
      "provenance": [],
      "gpuType": "V100"
    },
    "kernelspec": {
      "display_name": "Python 3",
      "name": "python3"
    },
    "language_info": {
      "name": "python"
    }
  },
  "nbformat": 4,
  "nbformat_minor": 0
}